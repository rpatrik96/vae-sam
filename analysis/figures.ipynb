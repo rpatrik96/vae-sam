{
 "cells": [
  {
   "cell_type": "markdown",
   "source": [
    "# Imports"
   ],
   "metadata": {
    "collapsed": false
   }
  },
  {
   "cell_type": "code",
   "execution_count": 1,
   "metadata": {},
   "outputs": [],
   "source": [
    "# imports\n",
    "import numpy as np\n",
    "import torch\n",
    "from tueplots import bundles, figsizes\n",
    "import wandb\n",
    "import matplotlib.pyplot as plt\n",
    "\n",
    "import sys\n",
    "\n",
    "%load_ext autoreload\n",
    "%autoreload 2\n",
    "\n",
    "sys.path.insert(0, '.')"
   ]
  },
  {
   "cell_type": "code",
   "execution_count": 2,
   "outputs": [],
   "source": [
    "from analysis import sweep2df, RED, BLUE, plot_typography\n"
   ],
   "metadata": {
    "collapsed": false
   }
  },
  {
   "cell_type": "code",
   "execution_count": 3,
   "outputs": [],
   "source": [
    "USETEX = True"
   ],
   "metadata": {
    "collapsed": false
   }
  },
  {
   "cell_type": "code",
   "execution_count": 4,
   "outputs": [],
   "source": [
    "plt.rcParams.update(bundles.neurips2022(usetex=USETEX))\n",
    "plt.rcParams.update({\n",
    "    'text.latex.preamble': [r'\\usepackage{amsfonts}', # mathbb\n",
    "                            r'\\usepackage{amsmath}'] # boldsymbol\n",
    "})"
   ],
   "metadata": {
    "collapsed": false
   }
  },
  {
   "cell_type": "code",
   "execution_count": 5,
   "outputs": [],
   "source": [
    "plot_typography(usetex=USETEX, small=12, medium=16, big=20)"
   ],
   "metadata": {
    "collapsed": false
   }
  },
  {
   "cell_type": "code",
   "execution_count": 6,
   "metadata": {},
   "outputs": [],
   "source": [
    "# Constants\n",
    "ENTITY = \"causal-representation-learning\"\n",
    "PROJECT = \"sam_test\"\n",
    "\n",
    "# W&B API\n",
    "api = wandb.Api(timeout=200)\n",
    "runs = api.runs(ENTITY + \"/\" + PROJECT)"
   ]
  },
  {
   "cell_type": "markdown",
   "source": [
    "# Data loading"
   ],
   "metadata": {
    "collapsed": false
   }
  },
  {
   "cell_type": "code",
   "execution_count": 20,
   "outputs": [],
   "source": [
    "SWEEP_ID = \"qqqqlma7\"\n",
    "sweep = api.sweep(f\"{ENTITY}/{PROJECT}/{SWEEP_ID}\")\n",
    "filename = f\"sam_vae_{SWEEP_ID}\"\n",
    "df_sam_vae, sam_val_loss, sam_val_scale_inv = sweep2df(sweep.runs, filename, save=True, load=False)"
   ],
   "metadata": {
    "collapsed": false
   }
  },
  {
   "cell_type": "code",
   "execution_count": 41,
   "outputs": [],
   "source": [
    "SWEEP_ID = \"4aggfh82\"\n",
    "sweep = api.sweep(f\"{ENTITY}/{PROJECT}/{SWEEP_ID}\")\n",
    "filename = f\"fix_enc_var_sweep_{SWEEP_ID}\"\n",
    "df_fix_enc_var, fix_enc_val_loss, fix_enc_val_scale_inv = sweep2df(sweep.runs, filename, save=True, load=False)"
   ],
   "metadata": {
    "collapsed": false
   }
  },
  {
   "cell_type": "code",
   "execution_count": 7,
   "outputs": [],
   "source": [
    "SWEEP_ID = \"1agmyttm\"\n",
    "sweep = api.sweep(f\"{ENTITY}/{PROJECT}/{SWEEP_ID}\")\n",
    "filename = f\"rae_sweep_{SWEEP_ID}\"\n",
    "df_rae, rae_val_loss, rae_val_scale_inv = sweep2df(sweep.runs, filename, save=True, load=False)"
   ],
   "metadata": {
    "collapsed": false
   }
  },
  {
   "cell_type": "code",
   "execution_count": 42,
   "outputs": [
    {
     "data": {
      "text/plain": "array([[9.20854677e-09, 6.72012301e-09, 6.08861101e-09, ...,\n        7.75040569e-09, 7.86115712e-09, 7.76962865e-09],\n       [8.47482161e-09, 5.96795048e-09, 5.22379315e-09, ...,\n        8.18566717e-09, 8.16604696e-09, 8.17441614e-09],\n       [1.03964577e-08, 6.77937201e-09, 5.81463123e-09, ...,\n        7.01794258e-09, 7.08914814e-09, 7.13616138e-09],\n       ...,\n       [4.24299612e-06, 2.68058561e-06, 2.11165634e-06, ...,\n        7.83850408e-07, 7.65252633e-07, 7.47969170e-07],\n       [9.60158810e-06, 5.41860685e-06, 3.50665025e-06, ...,\n        9.35496138e-07, 9.26833558e-07, 9.20830557e-07],\n       [5.60429885e-06, 2.89496794e-06, 2.23653902e-06, ...,\n        9.42207134e-07, 9.32686608e-07, 9.29666110e-07]])"
     },
     "execution_count": 42,
     "metadata": {},
     "output_type": "execute_result"
    }
   ],
   "source": [
    "fix_enc_val_scale_inv"
   ],
   "metadata": {
    "collapsed": false
   }
  },
  {
   "cell_type": "markdown",
   "source": [
    "# Pre-processing\n"
   ],
   "metadata": {
    "collapsed": false
   }
  },
  {
   "cell_type": "markdown",
   "source": [
    "# Plots"
   ],
   "metadata": {
    "collapsed": false
   }
  },
  {
   "cell_type": "code",
   "execution_count": 318,
   "outputs": [],
   "source": [
    "TICK_PADDING = 2\n",
    "LABELPAD = 3\n",
    "DIMS = [3,5,8,10]\n",
    "COLORS = [\"tab:blue\",\"tab:orange\",\"tab:green\",\"tab:red\"]"
   ],
   "metadata": {
    "collapsed": false
   }
  },
  {
   "cell_type": "code",
   "execution_count": null,
   "outputs": [],
   "source": [
    "LABELPAD = 1\n",
    "TICK_PADDING = 2\n",
    "\n",
    "fig = plt.figure(figsize=figsizes.neurips2022(nrows=1, ncols=2, rel_width=1)['figure.figsize'])\n",
    "\n",
    "\"\"\"MCC vs CIMA over different gamma\"\"\"\n",
    "ax = fig.add_subplot(121)\n",
    "ax.grid(True, which=\"both\", ls=\"-.\")\n",
    "\n",
    "# create double y-axis\n",
    "# ax_cima = ax.twinx()\n",
    "# ax_mcc = ax.twinx()\n",
    "\n",
    "# Link the respective y-axes for grid and plot\n",
    "# ax.get_shared_y_axes().join(ax, ax_mcc)\n",
    "\n",
    "# Remove ticks and labels and set which side to label\n",
    "# ticksoff = dict(labelleft=False, labelright=False, left=False, right=False)\n",
    "# ax.tick_params(axis=\"y\", **ticksoff)\n",
    "# ax_mcc.tick_params(axis=\"y\", labelleft=True, labelright=False, left=True, right=False)\n",
    "# ax_cima.tick_params(axis=\"y\", labelleft=False, labelright=True, left=False, right=True)\n",
    "\n",
    "# MCC\n",
    "# ax_mcc.errorbar(range(min_len), mcc.mean(0), yerr=mcc.std(0), label='mcc', c=BLUE)\n",
    "\n",
    "# CIMA\n",
    "# ax_cima.errorbar(range(min_len), np.log10(cima).mean(0), yerr=np.log10(cima).std(0), label='cima', c=RED)\n",
    "\n",
    "ax.errorbar()\n",
    "\n",
    "# set z-order to make CIMA the top plot\n",
    "# https://stackoverflow.com/a/30506077/16912032\n",
    "# ax.set_zorder(ax.get_zorder()+1)\n",
    "# ax.set_frame_on(False)\n",
    "\n",
    "ax_cima.set_ylabel(\"$\\log_{10} c_{\\mathrm{IMA}}$\", labelpad=LABELPAD)\n",
    "ax.set_ylabel(\"$\\mathrm{MCC}$\", labelpad=LABELPAD+17)\n",
    "\n",
    "ax.set_xlabel(\"Epoch\", labelpad=LABELPAD)\n",
    "val_epoch_factor = 25\n",
    "ax.set_xticklabels(range(0, min_len * val_epoch_factor, val_epoch_factor))\n",
    "ax.grid(True, which=\"both\", ls=\"-.\")\n",
    "\n",
    "handle1, label1 = ax_mcc.get_legend_handles_labels()\n",
    "handle2, label2 = ax_cima.get_legend_handles_labels()\n",
    "\n",
    "plt.legend([handle2[0], handle1[0]],[\"$\\log_{10} c_{\\mathrm{IMA}}$\", \"$\\mathrm{MCC}$\"], loc='center right')\n",
    "\n",
    "plt.savefig(\"dsprites_mcc_cima.svg\")"
   ],
   "metadata": {
    "collapsed": false
   }
  }
 ],
 "metadata": {
  "kernelspec": {
   "display_name": "Python 3 (ipykernel)",
   "language": "python",
   "name": "python3"
  },
  "language_info": {
   "codemirror_mode": {
    "name": "ipython",
    "version": 3
   },
   "file_extension": ".py",
   "mimetype": "text/x-python",
   "name": "python",
   "nbconvert_exporter": "python",
   "pygments_lexer": "ipython3",
   "version": "3.9.6"
  }
 },
 "nbformat": 4,
 "nbformat_minor": 1
}
