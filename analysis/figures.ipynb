{
 "cells": [
  {
   "cell_type": "markdown",
   "source": [
    "# Imports"
   ],
   "metadata": {
    "collapsed": false
   }
  },
  {
   "cell_type": "code",
   "execution_count": null,
   "metadata": {},
   "outputs": [],
   "source": [
    "# imports\n",
    "import numpy as np\n",
    "from tueplots import bundles, figsizes\n",
    "import wandb\n",
    "import matplotlib.pyplot as plt\n",
    "\n",
    "import sys\n",
    "\n",
    "%load_ext autoreload\n",
    "%autoreload 2\n",
    "\n",
    "sys.path.insert(0, '.')"
   ]
  },
  {
   "cell_type": "code",
   "execution_count": null,
   "outputs": [],
   "source": [
    "from analysis import sweep2df, plot_typography\n"
   ],
   "metadata": {
    "collapsed": false
   }
  },
  {
   "cell_type": "code",
   "execution_count": null,
   "outputs": [],
   "source": [
    "USETEX = True"
   ],
   "metadata": {
    "collapsed": false
   }
  },
  {
   "cell_type": "code",
   "execution_count": null,
   "outputs": [],
   "source": [
    "plt.rcParams.update(bundles.neurips2022(usetex=USETEX))\n",
    "plt.rcParams.update({\n",
    "    'text.latex.preamble': [r'\\usepackage{amsfonts}', # mathbb\n",
    "                            r'\\usepackage{amsmath}'] # boldsymbol\n",
    "})"
   ],
   "metadata": {
    "collapsed": false
   }
  },
  {
   "cell_type": "code",
   "execution_count": null,
   "outputs": [],
   "source": [
    "plot_typography(usetex=USETEX, small=12, medium=16, big=20)"
   ],
   "metadata": {
    "collapsed": false
   }
  },
  {
   "cell_type": "code",
   "execution_count": null,
   "metadata": {},
   "outputs": [],
   "source": [
    "# Constants\n",
    "ENTITY = \"causal-representation-learning\"\n",
    "PROJECT = \"sam_test\"\n",
    "\n",
    "# W&B API\n",
    "api = wandb.Api(timeout=200)\n",
    "runs = api.runs(ENTITY + \"/\" + PROJECT)"
   ]
  },
  {
   "cell_type": "markdown",
   "source": [
    "# Data loading"
   ],
   "metadata": {
    "collapsed": false
   }
  },
  {
   "cell_type": "markdown",
   "source": [
    "## SAM and VAE sanity check"
   ],
   "metadata": {
    "collapsed": false
   }
  },
  {
   "cell_type": "code",
   "execution_count": null,
   "outputs": [],
   "source": [
    "SWEEP_ID = \"e0geelo2\"\n",
    "sweep = api.sweep(f\"{ENTITY}/{PROJECT}/{SWEEP_ID}\")\n",
    "filename = f\"sam_vae_{SWEEP_ID}\"\n",
    "df_sam_vae, sam_val_loss, sam_val_scale_inv = sweep2df(sweep.runs, filename, save=True, load=False)"
   ],
   "metadata": {
    "collapsed": false
   }
  },
  {
   "cell_type": "markdown",
   "source": [
    "## Fix encoder variance"
   ],
   "metadata": {
    "collapsed": false
   }
  },
  {
   "cell_type": "code",
   "execution_count": null,
   "outputs": [],
   "source": [
    "SWEEP_ID = \"4aggfh82\"\n",
    "sweep = api.sweep(f\"{ENTITY}/{PROJECT}/{SWEEP_ID}\")\n",
    "filename = f\"fix_enc_var_sweep_{SWEEP_ID}\"\n",
    "df_fix_enc_var, fix_enc_val_loss, fix_enc_val_scale_inv = sweep2df(sweep.runs, filename, save=True, load=False)"
   ],
   "metadata": {
    "collapsed": false
   }
  },
  {
   "cell_type": "markdown",
   "source": [
    "## RAE"
   ],
   "metadata": {
    "collapsed": false
   }
  },
  {
   "cell_type": "code",
   "execution_count": null,
   "outputs": [],
   "source": [
    "SWEEP_ID = \"kmnl40of\"\n",
    "sweep = api.sweep(f\"{ENTITY}/{PROJECT}/{SWEEP_ID}\")\n",
    "filename = f\"rae_sweep_{SWEEP_ID}\"\n",
    "df_rae, rae_val_loss, rae_val_scale_inv = sweep2df(sweep.runs, filename, save=True, load=False)"
   ],
   "metadata": {
    "collapsed": false
   }
  },
  {
   "cell_type": "markdown",
   "source": [
    "# Pre-processing\n"
   ],
   "metadata": {
    "collapsed": false
   }
  },
  {
   "cell_type": "code",
   "execution_count": null,
   "outputs": [],
   "source": [
    "enc_vars = df_fix_enc_var.enc_var.unique()\n"
   ],
   "metadata": {
    "collapsed": false
   }
  },
  {
   "cell_type": "markdown",
   "source": [
    "## SAM and VAE sanity check"
   ],
   "metadata": {
    "collapsed": false
   }
  },
  {
   "cell_type": "code",
   "execution_count": null,
   "outputs": [],
   "source": [
    "scale_no_sam = sam_val_scale_inv[ df_sam_vae.sam_update ==False]\n",
    "scale_sam = sam_val_scale_inv[df_sam_vae.sam_update ==True]\n",
    "\n",
    "loss_no_sam = sam_val_loss[ df_sam_vae.sam_update ==False]\n",
    "loss_sam = sam_val_loss[df_sam_vae.sam_update ==True]"
   ],
   "metadata": {
    "collapsed": false
   }
  },
  {
   "cell_type": "markdown",
   "source": [
    "## Fix encoder variance"
   ],
   "metadata": {
    "collapsed": false
   }
  },
  {
   "cell_type": "code",
   "execution_count": null,
   "outputs": [],
   "source": [
    "scale_enc_var_no_sam = {var: fix_enc_val_scale_inv[(df_fix_enc_var.enc_var == var) & (df_fix_enc_var.sam_update ==False)] for var in enc_vars}\n",
    "scale_enc_var_sam = {var: fix_enc_val_scale_inv[(df_fix_enc_var.enc_var == var) & (df_fix_enc_var.sam_update ==True)] for var in enc_vars}\n",
    "\n",
    "loss_enc_var_no_sam = {var: fix_enc_val_loss[(df_fix_enc_var.enc_var == var) & (df_fix_enc_var.sam_update ==False)] for var in enc_vars}\n",
    "loss_enc_var_sam = {var: fix_enc_val_loss[(df_fix_enc_var.enc_var == var) & (df_fix_enc_var.sam_update ==True)] for var in enc_vars}"
   ],
   "metadata": {
    "collapsed": false
   }
  },
  {
   "cell_type": "markdown",
   "source": [
    "## RAE"
   ],
   "metadata": {
    "collapsed": false
   }
  },
  {
   "cell_type": "code",
   "execution_count": null,
   "outputs": [],
   "source": [
    "scale_rae = {var: rae_val_scale_inv[df_rae.enc_var == var] for var in enc_vars}\n",
    "loss_rae = {var: rae_val_loss[df_rae.enc_var == var] for var in enc_vars}"
   ],
   "metadata": {
    "collapsed": false
   }
  },
  {
   "cell_type": "markdown",
   "source": [
    "# Plots"
   ],
   "metadata": {
    "collapsed": false
   }
  },
  {
   "cell_type": "markdown",
   "source": [
    "## SAM and VAE sanity check"
   ],
   "metadata": {
    "collapsed": false
   }
  },
  {
   "cell_type": "code",
   "execution_count": null,
   "outputs": [],
   "source": [
    "LABELPAD = 1\n",
    "TICK_PADDING = 2\n",
    "COLORS = [\"tab:blue\",\"tab:orange\",\"tab:green\",\"tab:red\"]\n",
    "val_epoch_factor = 15\n",
    "\n",
    "fig = plt.figure(figsize=figsizes.neurips2022(nrows=1, ncols=2, rel_width=2)['figure.figsize'])\n",
    "\n",
    "\"\"\"Loss and inv scale\"\"\"\n",
    "ax = fig.add_subplot(121)\n",
    "ax.grid(True, which=\"both\", ls=\"-.\")\n",
    "\n",
    "\n",
    "if len(scale_sam) > 0:\n",
    "    val_epoch_ticks = range(0, scale_sam.shape[1] * val_epoch_factor, val_epoch_factor)\n",
    "    ax.errorbar(val_epoch_ticks, np.log10(scale_sam).mean(0), np.log10(scale_sam).std(0), c=COLORS[0], label=f\"SAM\", ls=\"-\")\n",
    "    ax.errorbar(val_epoch_ticks, np.log10(scale_no_sam).mean(0), np.log10(scale_no_sam).std(0), c=COLORS[1], label=\"VAE\", ls=\":\")\n",
    "\n",
    "\n",
    "ax.set_xlabel(\"Epoch\", labelpad=LABELPAD)\n",
    "ax.set_ylabel(\"$\\log_{10}\\Vert\\mathrm{\\mathbf{J}}_{\\mathbf{f}}\\Vert$\", labelpad=LABELPAD)\n",
    "\n",
    "\n",
    "ax = fig.add_subplot(122)\n",
    "ax.grid(True, which=\"both\", ls=\"-.\")\n",
    "\n",
    "\n",
    "if len(loss_sam) > 0:\n",
    "    val_epoch_ticks = range(0, loss_sam.shape[1] * val_epoch_factor, val_epoch_factor)\n",
    "    ax.errorbar(val_epoch_ticks, loss_sam.mean(0), loss_sam.std(0), c=COLORS[0], label=f\"SAM\", ls=\"-\")\n",
    "    ax.errorbar(val_epoch_ticks, loss_no_sam.mean(0), loss_no_sam.std(0), c=COLORS[1], label=\"VAE\", ls=\":\")\n",
    "\n",
    "\n",
    "\n",
    "ax.set_xlabel(\"Epoch\", labelpad=LABELPAD)\n",
    "ax.set_ylabel(\"$\\mathcal{L}$\", labelpad=LABELPAD)\n",
    "\n",
    "\n",
    "plt.legend(loc=\"upper right\")\n",
    "plt.savefig(\"loss_grad_sam_no_sam.svg\")"
   ],
   "metadata": {
    "collapsed": false
   }
  },
  {
   "cell_type": "markdown",
   "source": [
    "## Fix encoder variance"
   ],
   "metadata": {
    "collapsed": false
   }
  },
  {
   "cell_type": "code",
   "execution_count": null,
   "outputs": [],
   "source": [
    "LABELPAD = 1\n",
    "TICK_PADDING = 2\n",
    "COLORS = [\"tab:blue\",\"tab:orange\",\"tab:green\",\"tab:red\"]\n",
    "val_epoch_factor = 15\n",
    "\n",
    "fig = plt.figure(figsize=figsizes.neurips2022(nrows=1, ncols=2, rel_width=2)['figure.figsize'])\n",
    "\n",
    "\"\"\"Loss and inv scale\"\"\"\n",
    "ax = fig.add_subplot(121)\n",
    "ax.grid(True, which=\"both\", ls=\"-.\")\n",
    "\n",
    "\n",
    "\n",
    "for (var, inv_scale_sam), inv_scale_no_sam, inv_scale_rae, color in zip(scale_enc_var_sam.items(),scale_enc_var_no_sam.values(), scale_rae.values(), COLORS):\n",
    "    if len(inv_scale_sam) > 0:\n",
    "        val_epoch_ticks = range(0, len(inv_scale_sam[0]) * val_epoch_factor, val_epoch_factor)\n",
    "        ax.errorbar(val_epoch_ticks, np.log10(inv_scale_sam).mean(0), np.log10(inv_scale_sam).std(0), c=color, label=f\"{var} (SAM)\", ls=\"-\")\n",
    "        ax.errorbar(val_epoch_ticks, np.log10(inv_scale_no_sam).mean(0), np.log10(inv_scale_no_sam).std(0), c=color, label=str(var), ls=\":\")\n",
    "\n",
    "        # val_epoch_ticks = range(0, len(inv_scale_rae[0]) * val_epoch_factor, val_epoch_factor)\n",
    "        # ax.errorbar(val_epoch_ticks, np.log10(inv_scale_rae).mean(0), np.log10(inv_scale_rae).std(0), c=color, label=f\"{var} (RAE)\", ls=\"-.\")\n",
    "\n",
    "\n",
    "ax.set_xlabel(\"Epoch\", labelpad=LABELPAD)\n",
    "ax.set_ylabel(\"$\\log_{10}\\Vert\\mathrm{\\mathbf{J}}_{\\mathbf{f}}\\Vert$\", labelpad=LABELPAD)\n",
    "\n",
    "\n",
    "ax = fig.add_subplot(122)\n",
    "ax.grid(True, which=\"both\", ls=\"-.\")\n",
    "\n",
    "for (var, l_sam), l_no_sam, l_rae, color in zip(loss_enc_var_sam.items(), loss_enc_var_no_sam.values(), loss_rae.values(), COLORS):\n",
    "    if len(l_sam) > 0:\n",
    "        val_epoch_ticks = range(0, len(l_sam[0]) * val_epoch_factor, val_epoch_factor)\n",
    "        ax.errorbar(val_epoch_ticks, l_sam.mean(0), l_sam.std(0), c=color, label=f\"{var} (SAM)\", ls=\"-\")\n",
    "        ax.errorbar(val_epoch_ticks, l_no_sam.mean(0), l_no_sam.std(0), c=color, label=str(var), ls=\":\")\n",
    "\n",
    "        # val_epoch_ticks = range(0, len(l_rae[0]) * val_epoch_factor, val_epoch_factor)\n",
    "        # ax.errorbar(val_epoch_ticks, np.log10(l_rae).mean(0), np.log10(l_rae).std(0), c=color, label=f\"{var} (RAE)\", ls=\"-.\")\n",
    "\n",
    "\n",
    "\n",
    "\n",
    "ax.set_xlabel(\"Epoch\", labelpad=LABELPAD)\n",
    "ax.set_ylabel(\"$\\mathcal{L}$\", labelpad=LABELPAD)\n",
    "\n",
    "\n",
    "plt.legend(loc=\"upper right\")\n",
    "plt.savefig(\"loss_grad_fix_enc_var.svg\")"
   ],
   "metadata": {
    "collapsed": false
   }
  },
  {
   "cell_type": "markdown",
   "source": [
    "## RAE"
   ],
   "metadata": {
    "collapsed": false
   }
  },
  {
   "cell_type": "code",
   "execution_count": null,
   "outputs": [],
   "source": [
    "LABELPAD = 1\n",
    "TICK_PADDING = 2\n",
    "COLORS = [\"tab:blue\",\"tab:orange\",\"tab:green\",\"tab:red\"]\n",
    "val_epoch_factor = 15\n",
    "\n",
    "fig = plt.figure(figsize=figsizes.neurips2022(nrows=1, ncols=2, rel_width=2)['figure.figsize'])\n",
    "\n",
    "\"\"\"Loss and inv scale\"\"\"\n",
    "ax = fig.add_subplot(121)\n",
    "ax.grid(True, which=\"both\", ls=\"-.\")\n",
    "\n",
    "\n",
    "\n",
    "for (var, inv_scale_rae), color in zip(scale_rae.items(), COLORS):\n",
    "    if len(inv_scale_rae) > 0:\n",
    "        val_epoch_ticks = range(0, len(inv_scale_rae[0]) * val_epoch_factor, val_epoch_factor)\n",
    "        ax.errorbar(val_epoch_ticks, np.log10(inv_scale_rae).mean(0), np.log10(inv_scale_rae).std(0), c=color, label=f\"{var} (RAE)\", ls=\"-.\")\n",
    "\n",
    "\n",
    "ax.set_xlabel(\"Epoch\", labelpad=LABELPAD)\n",
    "ax.set_ylabel(\"$\\log_{10}\\Vert\\mathrm{\\mathbf{J}}_{\\mathbf{f}}\\Vert$\", labelpad=LABELPAD)\n",
    "\n",
    "\n",
    "ax = fig.add_subplot(122)\n",
    "ax.grid(True, which=\"both\", ls=\"-.\")\n",
    "\n",
    "for (var, l_rae), color in zip(loss_rae.items(), COLORS):\n",
    "    if len(l_rae) > 0:\n",
    "        val_epoch_ticks = range(0, len(l_rae[0]) * val_epoch_factor, val_epoch_factor)\n",
    "        ax.errorbar(val_epoch_ticks, np.log10(l_rae).mean(0), np.log10(l_rae).std(0), c=color, label=f\"{var} (RAE)\", ls=\"-.\")\n",
    "\n",
    "\n",
    "\n",
    "\n",
    "ax.set_xlabel(\"Epoch\", labelpad=LABELPAD)\n",
    "ax.set_ylabel(\"$\\mathcal{L}$\", labelpad=LABELPAD)\n",
    "\n",
    "\n",
    "plt.legend(loc=\"upper right\")\n",
    "plt.savefig(\"loss_grad_rae.svg\")"
   ],
   "metadata": {
    "collapsed": false
   }
  }
 ],
 "metadata": {
  "kernelspec": {
   "display_name": "Python 3 (ipykernel)",
   "language": "python",
   "name": "python3"
  },
  "language_info": {
   "codemirror_mode": {
    "name": "ipython",
    "version": 3
   },
   "file_extension": ".py",
   "mimetype": "text/x-python",
   "name": "python",
   "nbconvert_exporter": "python",
   "pygments_lexer": "ipython3",
   "version": "3.9.6"
  }
 },
 "nbformat": 4,
 "nbformat_minor": 1
}
